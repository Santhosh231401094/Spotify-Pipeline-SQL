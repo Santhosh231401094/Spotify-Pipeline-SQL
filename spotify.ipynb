{
 "cells": [
  {
   "cell_type": "code",
   "execution_count": 1,
   "id": "bac1dbd4-bd5b-4a3a-ad0c-01a4ebb01efd",
   "metadata": {},
   "outputs": [
    {
     "name": "stdout",
     "output_type": "stream",
     "text": [
      "Requirement already satisfied: spotipy in c:\\users\\santh\\appdata\\local\\programs\\python\\python312\\lib\\site-packages (2.25.0)\n",
      "Requirement already satisfied: redis>=3.5.3 in c:\\users\\santh\\appdata\\local\\programs\\python\\python312\\lib\\site-packages (from spotipy) (5.2.1)\n",
      "Requirement already satisfied: requests>=2.25.0 in c:\\users\\santh\\appdata\\local\\programs\\python\\python312\\lib\\site-packages (from spotipy) (2.32.3)\n",
      "Requirement already satisfied: urllib3>=1.26.0 in c:\\users\\santh\\appdata\\local\\programs\\python\\python312\\lib\\site-packages (from spotipy) (2.2.2)\n",
      "Requirement already satisfied: charset-normalizer<4,>=2 in c:\\users\\santh\\appdata\\local\\programs\\python\\python312\\lib\\site-packages (from requests>=2.25.0->spotipy) (3.3.2)\n",
      "Requirement already satisfied: idna<4,>=2.5 in c:\\users\\santh\\appdata\\local\\programs\\python\\python312\\lib\\site-packages (from requests>=2.25.0->spotipy) (3.7)\n",
      "Requirement already satisfied: certifi>=2017.4.17 in c:\\users\\santh\\appdata\\local\\programs\\python\\python312\\lib\\site-packages (from requests>=2.25.0->spotipy) (2024.8.30)\n",
      "Note: you may need to restart the kernel to use updated packages.\n"
     ]
    },
    {
     "name": "stderr",
     "output_type": "stream",
     "text": [
      "\n",
      "[notice] A new release of pip is available: 24.1.2 -> 25.0.1\n",
      "[notice] To update, run: python.exe -m pip install --upgrade pip\n"
     ]
    }
   ],
   "source": [
    "pip install spotipy"
   ]
  },
  {
   "cell_type": "code",
   "execution_count": 19,
   "id": "333f75f7-4c94-4d02-b971-ad3639a91ff1",
   "metadata": {},
   "outputs": [],
   "source": [
    "from spotipy.oauth2 import SpotifyClientCredentials"
   ]
  },
  {
   "cell_type": "code",
   "execution_count": 20,
   "id": "de0aa9f9-a9e5-440d-8ffa-000d44af5929",
   "metadata": {},
   "outputs": [],
   "source": [
    "import spotipy\n",
    "import pandas as pd\n",
    "import matplotlib.pyplot as plt\n",
    "import re"
   ]
  },
  {
   "cell_type": "code",
   "execution_count": 21,
   "id": "60218c53-b925-488a-be6a-135d4e8937ca",
   "metadata": {},
   "outputs": [],
   "source": [
    "#spotify credentials setup\n",
    "\n",
    "sp= spotipy.Spotify(auth_manager=SpotifyClientCredentials(\n",
    "    client_id='357091fc5c634b9f999eb76ba9a25fba',\n",
    "    client_secret='3163586ee8104c88949d87e8f942f8fa'\n",
    "))"
   ]
  },
  {
   "cell_type": "code",
   "execution_count": 22,
   "id": "cce96102-f1fd-4918-ad6b-d86872de7407",
   "metadata": {},
   "outputs": [],
   "source": [
    "#track_url=\"https://open.spotify.com/track/2eAvDnpXP5W0cVtiI0PUxV?si=39b8e9840d1547e8\""
   ]
  },
  {
   "cell_type": "code",
   "execution_count": 23,
   "id": "a8aaf44c-54fe-4ff6-a43a-fb8daeb6284f",
   "metadata": {},
   "outputs": [
    {
     "data": {
      "text/plain": [
       "\"#to extract track id from url --use regex\\n\\ntrack_id=re.search(r'track/([a-zA-Z0-9]+)',track_url).group(1)\\n#fetch track details\\ntrack=sp.track(track_id)\\nprint(track)\\n\\ntrack_data={\\n    'Track Name':track['name'],\\n    'Artist':track['artists'][0]['name'],\\n    'Album':track['album']['name'],\\n    'Popularity':track['popularity'],\\n    'Duration (minutes)':track['duration_ms']/60000  #to convert ms to min\\n} \""
      ]
     },
     "execution_count": 23,
     "metadata": {},
     "output_type": "execute_result"
    }
   ],
   "source": [
    "\"\"\"#to extract track id from url --use regex\n",
    "\n",
    "track_id=re.search(r'track/([a-zA-Z0-9]+)',track_url).group(1)\n",
    "#fetch track details\n",
    "track=sp.track(track_id)\n",
    "print(track)\n",
    "\n",
    "track_data={\n",
    "    'Track Name':track['name'],\n",
    "    'Artist':track['artists'][0]['name'],\n",
    "    'Album':track['album']['name'],\n",
    "    'Popularity':track['popularity'],\n",
    "    'Duration (minutes)':track['duration_ms']/60000  #to convert ms to min\n",
    "} \"\"\""
   ]
  },
  {
   "cell_type": "code",
   "execution_count": 24,
   "id": "6352ccab-6f0c-4569-9262-49ab593df63c",
   "metadata": {},
   "outputs": [],
   "source": [
    "\n",
    "def fetch_spotify_track(url):\n",
    "    track_id = re.search(r'track/([a-zA-Z0-9]+)', url).group(1)  # Extract track ID\n",
    "    track = sp.track(track_id)  # Fetch track details\n",
    "    \n",
    "    track_data = {\n",
    "        'Track Name': track['name'],\n",
    "        'Artist': track['artists'][0]['name'],\n",
    "        'Album': track['album']['name'],\n",
    "        'Popularity': track['popularity'],\n",
    "        'Duration (minutes)': track['duration_ms'] / 60000  # Convert ms to minutes\n",
    "    }\n",
    "    return track_data"
   ]
  },
  {
   "cell_type": "code",
   "execution_count": 25,
   "id": "1183d611-9aef-4c52-844c-9e1cb9d62455",
   "metadata": {},
   "outputs": [],
   "source": [
    "track_urls = [\n",
    "    \"https://open.spotify.com/track/2eAvDnpXP5W0cVtiI0PUxV?si=39b8e9840d1547e8\",\n",
    "    \"https://open.spotify.com/track/4iJyoBOLtHqaGxP12qzhQI?si=d3c9ff51a0b34a9c\",\n",
    "    \"https://open.spotify.com/track/0lYBSQXN6rCTvUZvg9S0lU?si=0cc10930f2f345d6\",\n",
    "    \"https://open.spotify.com/track/61uyGDPJ06MkxJtHgPmuyO?si=2d7b92abcaaf441c\",\n",
    "    \"https://open.spotify.com/track/5nCthAh3jt4xKuLJAifAaR?si=544243fb8d4147b3\"\n",
    "]\n"
   ]
  },
  {
   "cell_type": "code",
   "execution_count": 26,
   "id": "025e5399-e56d-4879-a877-c59d262faf98",
   "metadata": {},
   "outputs": [
    {
     "name": "stderr",
     "output_type": "stream",
     "text": [
      "Couldn't read cache at: .cache\n",
      "Couldn't write token to cache at: .cache\n",
      "Couldn't read cache at: .cache\n",
      "Couldn't write token to cache at: .cache\n",
      "Couldn't read cache at: .cache\n",
      "Couldn't write token to cache at: .cache\n",
      "Couldn't read cache at: .cache\n",
      "Couldn't write token to cache at: .cache\n",
      "Couldn't read cache at: .cache\n",
      "Couldn't write token to cache at: .cache\n"
     ]
    }
   ],
   "source": [
    "all_tracks = []\n",
    "for url in track_urls:\n",
    "    all_tracks.append(fetch_spotify_track(url))"
   ]
  },
  {
   "cell_type": "code",
   "execution_count": 27,
   "id": "6e1f63fb-0a19-4c99-bf5a-6fcf712734bd",
   "metadata": {},
   "outputs": [
    {
     "name": "stdout",
     "output_type": "stream",
     "text": [
      "{'Track Name': 'Dandelions', 'Artist': 'Ruth B.', 'Album': 'Safe Haven', 'Popularity': 82, 'Duration (minutes)': 3.8953333333333333}\n",
      "{'Track Name': 'Peaches (feat. Daniel Caesar & Giveon)', 'Artist': 'Justin Bieber', 'Album': 'Justice', 'Popularity': 75, 'Duration (minutes)': 3.30135}\n",
      "{'Track Name': 'Let Me Love You', 'Artist': 'DJ Snake', 'Album': 'Encore', 'Popularity': 81, 'Duration (minutes)': 3.4324333333333334}\n",
      "{'Track Name': 'Company', 'Artist': 'Justin Bieber', 'Album': 'Purpose (Deluxe)', 'Popularity': 72, 'Duration (minutes)': 3.4686666666666666}\n",
      "{'Track Name': 'Harleys In Hawaii', 'Artist': 'Katy Perry', 'Album': 'Harleys In Hawaii', 'Popularity': 65, 'Duration (minutes)': 3.0969166666666665}\n"
     ]
    }
   ],
   "source": [
    "for track in all_tracks:\n",
    "    print(track)\n"
   ]
  },
  {
   "cell_type": "code",
   "execution_count": 28,
   "id": "bbf014c0-384e-44da-b3dd-b0f59008f746",
   "metadata": {},
   "outputs": [
    {
     "data": {
      "text/html": [
       "<div>\n",
       "<style scoped>\n",
       "    .dataframe tbody tr th:only-of-type {\n",
       "        vertical-align: middle;\n",
       "    }\n",
       "\n",
       "    .dataframe tbody tr th {\n",
       "        vertical-align: top;\n",
       "    }\n",
       "\n",
       "    .dataframe thead th {\n",
       "        text-align: right;\n",
       "    }\n",
       "</style>\n",
       "<table border=\"1\" class=\"dataframe\">\n",
       "  <thead>\n",
       "    <tr style=\"text-align: right;\">\n",
       "      <th></th>\n",
       "      <th>Track Name</th>\n",
       "      <th>Artist</th>\n",
       "      <th>Album</th>\n",
       "      <th>Popularity</th>\n",
       "      <th>Duration (minutes)</th>\n",
       "    </tr>\n",
       "  </thead>\n",
       "  <tbody>\n",
       "    <tr>\n",
       "      <th>0</th>\n",
       "      <td>Dandelions</td>\n",
       "      <td>Ruth B.</td>\n",
       "      <td>Safe Haven</td>\n",
       "      <td>82</td>\n",
       "      <td>3.895333</td>\n",
       "    </tr>\n",
       "    <tr>\n",
       "      <th>1</th>\n",
       "      <td>Peaches (feat. Daniel Caesar &amp; Giveon)</td>\n",
       "      <td>Justin Bieber</td>\n",
       "      <td>Justice</td>\n",
       "      <td>75</td>\n",
       "      <td>3.301350</td>\n",
       "    </tr>\n",
       "    <tr>\n",
       "      <th>2</th>\n",
       "      <td>Let Me Love You</td>\n",
       "      <td>DJ Snake</td>\n",
       "      <td>Encore</td>\n",
       "      <td>81</td>\n",
       "      <td>3.432433</td>\n",
       "    </tr>\n",
       "    <tr>\n",
       "      <th>3</th>\n",
       "      <td>Company</td>\n",
       "      <td>Justin Bieber</td>\n",
       "      <td>Purpose (Deluxe)</td>\n",
       "      <td>72</td>\n",
       "      <td>3.468667</td>\n",
       "    </tr>\n",
       "    <tr>\n",
       "      <th>4</th>\n",
       "      <td>Harleys In Hawaii</td>\n",
       "      <td>Katy Perry</td>\n",
       "      <td>Harleys In Hawaii</td>\n",
       "      <td>65</td>\n",
       "      <td>3.096917</td>\n",
       "    </tr>\n",
       "  </tbody>\n",
       "</table>\n",
       "</div>"
      ],
      "text/plain": [
       "                               Track Name         Artist              Album  \\\n",
       "0                              Dandelions        Ruth B.         Safe Haven   \n",
       "1  Peaches (feat. Daniel Caesar & Giveon)  Justin Bieber            Justice   \n",
       "2                         Let Me Love You       DJ Snake             Encore   \n",
       "3                                 Company  Justin Bieber   Purpose (Deluxe)   \n",
       "4                       Harleys In Hawaii     Katy Perry  Harleys In Hawaii   \n",
       "\n",
       "   Popularity  Duration (minutes)  \n",
       "0          82            3.895333  \n",
       "1          75            3.301350  \n",
       "2          81            3.432433  \n",
       "3          72            3.468667  \n",
       "4          65            3.096917  "
      ]
     },
     "metadata": {},
     "output_type": "display_data"
    }
   ],
   "source": [
    "df=pd.DataFrame(all_tracks)\n",
    "display(df)"
   ]
  },
  {
   "cell_type": "code",
   "execution_count": 29,
   "id": "bf8334f9-42f6-4fcf-a2c2-5e3d3b135c7e",
   "metadata": {},
   "outputs": [],
   "source": [
    "df.to_csv('SONGS.csv',index=False)"
   ]
  },
  {
   "cell_type": "code",
   "execution_count": null,
   "id": "9da977cc-9e6c-4ed4-a14a-253b805adf43",
   "metadata": {},
   "outputs": [],
   "source": [
    "!pip install mysql-connector-python"
   ]
  },
  {
   "cell_type": "code",
   "execution_count": 32,
   "id": "d3785a28-c362-48ef-aef6-cee781f87d8c",
   "metadata": {},
   "outputs": [],
   "source": [
    "import mysql.connector\n",
    "\n",
    "# Establish connection \n",
    "conn = mysql.connector.connect(\n",
    "    host=\"127.0.0.1\",  \n",
    "    user=\"root\",\n",
    "    password=\"2129\",\n",
    "    database=\"spotify_db\",\n",
    "    port=2129  \n",
    ")\n",
    "\n",
    "cursor = conn.cursor()"
   ]
  },
  {
   "cell_type": "code",
   "execution_count": 33,
   "id": "1a7ac403-3f33-4de3-abe9-daedd1b80d80",
   "metadata": {},
   "outputs": [],
   "source": [
    "# Create Table Query\n",
    "create_table_query = \"\"\"\n",
    "CREATE TABLE IF NOT EXISTS spotify_tracks (\n",
    "    id INT AUTO_INCREMENT PRIMARY KEY,\n",
    "    track_name VARCHAR(100),\n",
    "    artist VARCHAR(50),\n",
    "    album VARCHAR(30),\n",
    "    popularity INT,\n",
    "    duration_minutes FLOAT\n",
    ");\n",
    "\"\"\""
   ]
  },
  {
   "cell_type": "code",
   "execution_count": 34,
   "id": "16e8dfb4-ee2f-4013-8c4d-c12b71da48c5",
   "metadata": {},
   "outputs": [],
   "source": [
    "cursor.execute(create_table_query)"
   ]
  },
  {
   "cell_type": "code",
   "execution_count": 35,
   "id": "024eff48-2530-4a66-b463-58a72cb053de",
   "metadata": {},
   "outputs": [],
   "source": [
    "insert_query=\"\"\"\n",
    "INSERT INTO spotify_tracks (track_name,artist,album,popularity,duration_minutes)\n",
    "VALUES(%s,%s,%s,%s,%s)\n",
    "\"\"\""
   ]
  },
  {
   "cell_type": "code",
   "execution_count": 36,
   "id": "24ac13c6-3bb5-436f-81aa-5bd0a0d2ec06",
   "metadata": {},
   "outputs": [],
   "source": [
    "track_records = [\n",
    "    (track['Track Name'], \n",
    "     track['Artist'],\n",
    "     track['Album'],\n",
    "     track['Popularity'],\n",
    "     track['Duration (minutes)'])\n",
    "    \n",
    "    for track in all_tracks \n",
    "]"
   ]
  },
  {
   "cell_type": "code",
   "execution_count": 37,
   "id": "c2b210f0-0daf-4441-ad69-1a64c660c316",
   "metadata": {},
   "outputs": [],
   "source": [
    "cursor.executemany(insert_query, track_records)\n",
    "conn.commit()"
   ]
  },
  {
   "cell_type": "code",
   "execution_count": null,
   "id": "a3bc901d-d500-4b07-ad2f-c036cdc31844",
   "metadata": {},
   "outputs": [],
   "source": []
  },
  {
   "cell_type": "code",
   "execution_count": null,
   "id": "53fe39cf-59d4-4dee-ba9c-22aa3444d9fb",
   "metadata": {},
   "outputs": [],
   "source": []
  }
 ],
 "metadata": {
  "kernelspec": {
   "display_name": "Python 3 (ipykernel)",
   "language": "python",
   "name": "python3"
  },
  "language_info": {
   "codemirror_mode": {
    "name": "ipython",
    "version": 3
   },
   "file_extension": ".py",
   "mimetype": "text/x-python",
   "name": "python",
   "nbconvert_exporter": "python",
   "pygments_lexer": "ipython3",
   "version": "3.12.2"
  }
 },
 "nbformat": 4,
 "nbformat_minor": 5
}
